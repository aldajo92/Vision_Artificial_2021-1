{
 "cells": [
  {
   "cell_type": "markdown",
   "metadata": {},
   "source": [
    "<hr>\n",
    "Este material ha sido construido en conjunto con material suministrado por los profesores Pedro Atencio (Instituto Tecnológico Metropolitano), Carlos Mera (Universidad de Medellin), Albeiro Espinosa y Diego Patiño (Universidad Nacional de Colombia, Sede Medellín); a ellos les damos crédito.\n",
    "<hr>"
   ]
  },
  {
   "cell_type": "markdown",
   "metadata": {},
   "source": [
    "#  <center> VISIÓN ARTIFICIAL </center>\n",
    "## Agenda del día\n",
    "### Generalidades del curso\n",
    "<ul>\n",
    "  <li>Objetivos</li>\n",
    "  <li>Contenido</li>\n",
    "  <li>Metodología</li>\n",
    "  <li>Evaluación</li>\n",
    "</ul>\n",
    "\n",
    "### Unidad 1 - Introducción\n",
    "<ul>\n",
    "  <li>Visión artificial</li>\n",
    "  <li>**Paquetes científicos de Python (para la clase)**</li>\n",
    "</ul>\n"
   ]
  },
  {
   "cell_type": "markdown",
   "metadata": {},
   "source": [
    "# Unidad 1 - Introducción\n",
    "<hr>"
   ]
  },
  {
   "cell_type": "markdown",
   "metadata": {},
   "source": [
    "## 2. Paquetes científicos de Python\n",
    "<br>\n",
    "\n",
    "## Python\n",
    "<br><br>\n",
    "Python es un popular lenguaje de alto nivel. Puede manejar varias tareas como computación numérica, desarrollo web, programación de bases de datos, programación de redes de comunicación, procesamiento paralelo, etc.\n",
    "<ul>\n",
    "    <li>Es gratis.</li>\n",
    "    <li>Está disponible en todos los sistemas operativos populares como Windows, Mac o Linux.</li>\n",
    "    <li>Es un lenguaje interpretado. No hay necesidad de compilar o enlazar (linking).</li>\n",
    "    <li>Brinda la capacidad de desarrollar rápido.</li>\n",
    "    <li>Es sintacticamente más simple que C/C++/Fortran. Fácil de leer y entender.</li>\n",
    "    <li>Tiene mucho soporte desde distintas comunidades: académica, científica, empresarial, etc. Por lo que se dispone de muchos paquetes para tareas específicas.</li>\n",
    "    <li>Muchas universidades ya reemplazan MATLAB por Python.</li>\n",
    "    <li>Los autores de investigación en ciencias computacionales adoptan Python como estandar para compartir sus códigos.</li>\n",
    "    <li>Tipado dinámico.</li>\n",
    "    <li>Python es para puristas: La indentación NO ES OPCIONAL, lo cual hace más fácil la lectura y documentación del código.</li>\n",
    "</ul>\n",
    "<hr>"
   ]
  },
  {
   "cell_type": "markdown",
   "metadata": {},
   "source": [
    "## Ambientes de Python (Python Environments).\n",
    "<br><br>\n",
    "Un ambiente de Python es un gestor de paquetes y software utilitario, elaborado por la comunidad para desarrollar software de un tema especifico. Entre los ambientes mas populares de Python para computacion cientifica se encuentran:\n",
    "<ul>\n",
    "    <li><a href='https://python-xy.github.io'>PythonXY</a></li>\n",
    "    <li><a href='https://www.continuum.io/why-anaconda'>Anaconda</a></li>\n",
    "</ul>\n",
    "<br>\n",
    "Utilizar ambientes de Python permite olvidarse en gran parte de la instalacion de los paquetes necesarios para desarrollar un software especializado, asi como de evitar que se altere el Python del sistema operativo, lo cual podria tener consecuencias desastrosas.\n",
    "<br><br>\n",
    "Ambos ambientes son gratis y cuentan con gran soporte. En esta clase se hara uso de Anaconda, sin embargo sientase libre de elegir el paquete que mas le convenga.\n",
    "<hr>"
   ]
  },
  {
   "cell_type": "markdown",
   "metadata": {},
   "source": [
    "## Editor\n",
    "<br>\n",
    "Anaconda Python viene con un potente y util editor web llamada <b>Jupyter Notebook</b>, el cual hace las veces de un bloc de notas del cientifico, en el cual se puede trabajar contenido HTML para plasmar notas o ejercicios de experimentacion, asi como codigo Python. Esto presenta la gran ventaja de que se pueden ir generando resultados visuales a medida que se avanza en la experimentacion. Esto resulta muy util a la hora de escribir un articulo cientifico, por ejemplo...o para un profesor para recibir trabajos de sus estudiantes.\n",
    "<br>\n",
    "<center><i>Figura. Esta clase esta siendo presentada en Jupyter Notebook.</i></center>\n",
    "<img src=\"res/m1_3/gui.jpg\" alt=\"guinio\" style=\"height:200px\"></img>\n",
    "<br>\n",
    "Jupyter notebook no es exclusivo de Ananconda, es decir, se puede realizar una instalacion de este modulo por aparte.\n",
    "<hr>"
   ]
  },
  {
   "cell_type": "markdown",
   "metadata": {},
   "source": [
    "<hr>\n",
    "## Ambientes virtuales (virtual environments)\n",
    "<br>\n",
    "Se conococen como ambientes virtuales, un \"espacio\" privado, en el cual se pueden realizar instalaciones de paquetes independiente del motor principal de Python. Dicho de otra forma, si usted quiere realizar tres proyectos de desarrollo y cada uno utiliza una version particular del paquete TensorFlow, entonces es conveniente crear un ambiente virtual para cada proyecto y gestionar los paquetes de forma individual, todos corriendo bajo el mismo motor de Python.\n",
    "<br>\n",
    "<b>virtualenv</b> es el paquete mas conocido para manejar este tipo de ambientes. Sin embargo, anaconda tiene su propio gestor de paquetes virtuales, el cual utilizaremos para esta clase.\n",
    "<br>\n",
    "<center><i>Figura. Ejemplo de la creacion en consola de un ambiente virtual utilizando <b>conda create</b>.</i></center>\n",
    "<img src=\"res/m1_3/conda_create.png\" alt=\"guinio\" style=\"height:500px\"></img>\n",
    "<br>\n",
    "La activacion de un ambiente virtual, se realiza mediante el comando: <b>source activate nombre_ambiente</b>.\n",
    "<br>\n",
    "<center><i>Figura. Ejemplo de la activacion en consola de un ambiente virtual utilizando <b>source activate</b>.</i></center>\n",
    "<img src=\"res/m1_3/source_activate.png\" alt=\"guinio\" style=\"width:700px\"></img>\n",
    "<hr>"
   ]
  },
  {
   "cell_type": "markdown",
   "metadata": {},
   "source": [
    "## Instalacion de paquetes o modulos de Python\n",
    "<br>\n",
    "Una vez tengamos configurado y activado nuestro ambiente virtual, podemos instalar los paquetes de python mediante la herramiento <a href='https://en.wikipedia.org/wiki/Pip_(package_manager)'>pip</a>, un sistema de administracion de paquetes muy popular.\n",
    "<br>\n",
    "La utilizacion de pip para instalar un paquete es: <b>pip install paquete</b>\n",
    "<br>\n",
    "Por ejemplo, para instalar el paquete numpy tendriamos el comando: <b> pip install numpy</b>. Para mayor informacion, consultar la <a href='https://pip.pypa.io/en/stable/'>documentacion oficial</a>.\n",
    "<br><br>\n",
    "Procedamos entonces a la instalacion de los paquetes necesarios para la clase (si falta otro podemos instalarlo luego):\n",
    "<ul>\n",
    "    <li><b><a href='https://www.scipy.org'>OpenCV</a></b>: librería para procesamiento de imágenes.</li>\n",
    "    <li><b><a href='https://www.scipy.org'>scipy</a></b>: paquetes cientificos y numericos.</li>\n",
    "    <li><b><a href='http://matplotlib.org'>matplotlib</a></b>: modulo de graficos cientificos.</li>\n",
    "    <li><b><a href='http://scikit-image.org'>scikit-image</a></b>: modulo de procesamiento de imágenes y visión por computador, análogo a OpenCV.</li>\n",
    "    <li><b><a href='http://pandas.pydata.org'>pandas</a></b>: modulo de analisis de datos.</li>\n",
    "    <li><b><a href='http://jupyter.org'>Jupyter</a></b>: Jupyter Notebook.</li>\n",
    "</ul>\n",
    "<hr>"
   ]
  },
  {
   "cell_type": "markdown",
   "metadata": {},
   "source": [
    "## Jupyter Notebook\n",
    "<br>\n",
    "Toda la clase estara orientada a trabajar en Jupyter Notebook, tanto para la presentacion de material teorico-practico, como para la entrega de trabajos.\n",
    "<br>\n",
    "Primero debemos inicializar Jupyter Notebook mediante los siguientes pasos:\n",
    "<br>\n",
    "### 1. Activacion del ambiente virtual\n",
    "Para ello recuerde ya debio haber seguido los pasos anteriores de: creacion del ambiente virtual, activacion e instalacion de paquetes o modulos de python. Posteriormente puede activar el ambiente mediante: \n",
    "<br><br>\n",
    "<font size=\"2\" color=\"red\">source activate</font> mi_ambiente\n",
    "<br>\n",
    "<h3>2. Ejecucion de Jupyter Notebook</h3>\n",
    "<br>\n",
    "Para ello se debe ejecutar el comando:\n",
    "<br><br>\n",
    "<font size='2' color='red'>jupyter notebook</font>\n",
    "<br><br>\n",
    "<b>Nota:</b> El notebook se abrira en la carpeta en la que este ubicado en la consola al momento de ejecutar el comando. Valide que esta en la carpeta correcta antes de ejecutar el comando.\n",
    "<br>\n",
    "<center><i>Figura. Comandos para la ejecucion de jupyter notebook.</i></center>\n",
    "<img src=\"res/m1_4/jupyter_notebook.png\" alt=\"guinio\" style=\"height:200px\"></img>\n",
    "<br><br>\n",
    "<center><i>Figura. Pantalla de bienvenida de jupyter notebook.</i></center>\n",
    "<img src=\"res/m1_4/home.png\" alt=\"guinio\" style=\"height:300px\"></img>\n",
    "<br>"
   ]
  },
  {
   "cell_type": "markdown",
   "metadata": {},
   "source": [
    "## Basicos de Python"
   ]
  },
  {
   "cell_type": "code",
   "execution_count": 1,
   "metadata": {},
   "outputs": [
    {
     "name": "stdout",
     "output_type": "stream",
     "text": [
      "[[0. 0. 0.]]\n"
     ]
    }
   ],
   "source": [
    "#Esto en un comentario unico\n",
    "'''\n",
    "Esto es un\n",
    "comentario\n",
    "multiple\n",
    "'''\n",
    "#Existen multiples formas de importar paquetes o modulos de Python. A continuacion algunos ejemplos.\n",
    "\n",
    "import numpy\n",
    "a = numpy.zeros([1,3])\n",
    "print(a)"
   ]
  },
  {
   "cell_type": "code",
   "execution_count": 2,
   "metadata": {},
   "outputs": [
    {
     "name": "stdout",
     "output_type": "stream",
     "text": [
      "[[0. 0. 0. 0.]]\n",
      "c:  [1 3 4 5]\n",
      "d:  [[1 2 3]\n",
      " [4 5 6]\n",
      " [7 8 9]]\n"
     ]
    }
   ],
   "source": [
    "import numpy as np\n",
    "b = np.zeros([1,4])\n",
    "print(b)\n",
    "\n",
    "from numpy import array\n",
    "c = array([1,3,4,5])\n",
    "print(\"c: \",c)\n",
    "\n",
    "d = np.array([[1,2,3],[4,5,6],[7,8,9]])\n",
    "print(\"d: \",d)"
   ]
  },
  {
   "cell_type": "code",
   "execution_count": 3,
   "metadata": {},
   "outputs": [
    {
     "name": "stdout",
     "output_type": "stream",
     "text": [
      "hola mundohola mundohola mundohola mundohola mundo\n",
      "<class 'float'>\n"
     ]
    }
   ],
   "source": [
    "#Python tiene tipado dinamico\n",
    "a = 5\n",
    "b = 1.4567\n",
    "c = \"hola mundo\"\n",
    "d = ['h', 'o', 'l', 'a']\n",
    "\n",
    "print(a * c)\n",
    "print(type(b))"
   ]
  },
  {
   "cell_type": "code",
   "execution_count": 4,
   "metadata": {},
   "outputs": [
    {
     "name": "stdout",
     "output_type": "stream",
     "text": [
      "range(0, 3)\n",
      "range(3, 10)\n",
      "impar:  1\n",
      "par:  2\n",
      "impar:  3\n",
      "par:  4\n",
      "impar:  5\n",
      "par:  6\n",
      "impar:  7\n",
      "par:  8\n",
      "impar:  9\n",
      "iteracion:  1\n",
      "iteracion:  2\n",
      "iteracion:  3\n",
      "iteracion:  4\n",
      "iteracion:  5\n",
      "iteracion:  6\n",
      "iteracion:  7\n",
      "iteracion:  8\n",
      "iteracion:  9\n",
      "iteracion:  10\n"
     ]
    }
   ],
   "source": [
    "#Los loops en python son muy sencillo\n",
    "rango = range(3)\n",
    "print(rango)\n",
    "\n",
    "#rango con intervalo\n",
    "print(range(3,10))\n",
    "\n",
    "#Note la indentacion en el FOR. Una tabulacion, indica que la linea siguiente se encuentra contenido dentro de la\n",
    "#linea anterior.\n",
    "for i in range(1, 10):\n",
    "    if(i%2 == 0):\n",
    "        print(\"par: \", i)\n",
    "    else:\n",
    "        print(\"impar: \", i)\n",
    "\n",
    "#El while es similar a cualquier lenguaje de programacion\n",
    "c = 1\n",
    "while(c <= 10):\n",
    "    print(\"iteracion: \", c)\n",
    "    c += 1"
   ]
  },
  {
   "cell_type": "code",
   "execution_count": 5,
   "metadata": {},
   "outputs": [
    {
     "name": "stdout",
     "output_type": "stream",
     "text": [
      "cuantas palabras tiene el parrafo:  16\n",
      "las palabras son:  ['That', 'is', 'not', 'dead', 'which', 'can', 'eternal', 'lie,', 'and', 'with', 'strange', 'aeons', 'even', 'death', 'may', 'die']\n",
      "cuantas letras a contiene el parrafo:  9\n",
      "cual es la segunda palabra del parrafo:  not\n"
     ]
    }
   ],
   "source": [
    "#En python todas la variables son objetos, por lo que tienen metodos implementados\n",
    "\n",
    "parrafo = \"That is not dead which can eternal lie, and with strange aeons even death may die\"\n",
    "palabras = parrafo.split()\n",
    "print(\"cuantas palabras tiene el parrafo: \", len(palabras))\n",
    "print(\"las palabras son: \", palabras)\n",
    "print(\"cuantas letras a contiene el parrafo: \", parrafo.count('a'))\n",
    "print(\"cual es la segunda palabra del parrafo: \", palabras[2])"
   ]
  },
  {
   "cell_type": "code",
   "execution_count": 1,
   "metadata": {},
   "outputs": [
    {
     "name": "stdout",
     "output_type": "stream",
     "text": [
      "[1, 3, 2.8, 'hola']\n",
      "['34', 54]\n",
      "[1, 3, 2.8, 'hola', '34', 54]\n",
      "hola\n",
      "('lista ordenada: ', [1, 2.8, 3, 'hola'])\n",
      "[1, 2.8, 3, 'hola']\n",
      "[1, 25, 9, 16, 49]\n",
      "((2, 3), (2, 2), (3, 4, 2))\n",
      "(2, 3)\n",
      "set([1, 2, 3, 4, 10, 11, 24])\n",
      "set([1, 2, 3, 4])\n",
      "['lobo', 'gato', 'perro', 'leon']\n",
      "['canino', 'felino', 'canino', 'felino']\n",
      "canino\n"
     ]
    }
   ],
   "source": [
    "#ESTRUCTURAS DE DATOS\n",
    "##===================================\n",
    "#Listas\n",
    "##===================================\n",
    "a = [1,3,2.8,\"hola\"]\n",
    "print(a)\n",
    "b = [\"34\", 54]\n",
    "print(b)\n",
    "print(a+b)\n",
    "print((a+b)[3])\n",
    "a.sort()\n",
    "print(\"lista ordenada: \", a)\n",
    "print(sorted(a))\n",
    "#Podemos generar una lista a partir de otra lista. Estos se conoce como List Comprehensions\n",
    "l = [1,5,3,4,7]\n",
    "lista_squared = [x*x for x in l]\n",
    "print(lista_squared)\n",
    "\n",
    "##===================================\n",
    "#Tuplas\n",
    "##===================================\n",
    "tupla = ((2,3), (2,2), (3,4,2))\n",
    "print(tupla)\n",
    "print(tupla[0])\n",
    "\n",
    "##===================================\n",
    "#Set (conjuntos)\n",
    "##===================================\n",
    "lista = [1,2,3,4,1,1,3,3,10,11,24,24]\n",
    "c1 = set(lista)\n",
    "print(c1)\n",
    "#Los conjuntos permiten operaciones de conjuntos (interseccion, union, etc.)\n",
    "lista2 = [1,2,3,4,4,4,4,15,16,17,89]\n",
    "c2 = set(lista2)\n",
    "\n",
    "print(c1.intersection(c2))\n",
    "\n",
    "##===================================\n",
    "#Diccionarios: par llave-valor\n",
    "##===================================\n",
    "d = {'perro':'canino', 'lobo':'canino', 'gato':'felino', 'leon':'felino'}\n",
    "print(d.keys())\n",
    "print(d.values())\n",
    "print(d['lobo'])"
   ]
  },
  {
   "cell_type": "code",
   "execution_count": null,
   "metadata": {
    "collapsed": true
   },
   "outputs": [],
   "source": [
    "##Funciones\n",
    "def mi_funcion(a,b,c):\n",
    "    return a*b+c\n",
    "\n",
    "print(mi_funcion(1,2,3))"
   ]
  },
  {
   "cell_type": "markdown",
   "metadata": {},
   "source": [
    "### Conclusiones\n",
    "\n",
    "<ul>\n",
    "<li>Los paquetes especiales que utilizaremos para el tratamiento de imágenes, los abordaremos mediante avancemos con temas posteriores.</li>\n",
    "<br>\n",
    "<li>Hemos visto como se configura el espacio de trabajo para la clase, que se compone de un ambiente de Python, un ambiente virtual, una serie de paquetes o modulos y un editor que en nuestro caso es Jupyter Notebook.</li>\n",
    "<li>Hemos abordado los conceptos básicos de Python, los cuales pueden reforzar mediante busqueda de informacion en internet o en libros al respecto... ¡Estamos listos!</li>\n",
    "</ul>"
   ]
  },
  {
   "cell_type": "code",
   "execution_count": null,
   "metadata": {
    "collapsed": true
   },
   "outputs": [],
   "source": []
  }
 ],
 "metadata": {
  "kernelspec": {
   "display_name": "Python 3",
   "language": "python",
   "name": "python3"
  },
  "language_info": {
   "codemirror_mode": {
    "name": "ipython",
    "version": 3
   },
   "file_extension": ".py",
   "mimetype": "text/x-python",
   "name": "python",
   "nbconvert_exporter": "python",
   "pygments_lexer": "ipython3",
   "version": "3.7.4"
  }
 },
 "nbformat": 4,
 "nbformat_minor": 2
}
