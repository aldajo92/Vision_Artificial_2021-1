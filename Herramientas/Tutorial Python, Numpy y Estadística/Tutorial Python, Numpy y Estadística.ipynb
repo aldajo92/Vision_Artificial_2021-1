{
 "cells": [
  {
   "cell_type": "markdown",
   "metadata": {},
   "source": [
    "# Tutorial de python3 Visión Artificial 2021-1\n",
    "\n",
    "## Profesor Jhon Willian Branch Bedoya. jwbranch@unal.edu.co\n",
    "## Monitor Dioselin Esteban Brito Peñaloza. dbrito@unal.edu.co"
   ]
  },
  {
   "cell_type": "markdown",
   "metadata": {},
   "source": [
    "# ¿Qué es Jupyter Notebook?\n",
    "\n",
    "Es un entorno de trabajo interactivo que permite desarrollar código en python y otros lenguajes, de forma dinámica, donde es posible integrar bloques de código y texto, gráficos e imágenes.\n",
    "\n",
    "Es utilizado ampliamente en el campo de análisis numérico, estadístico y machine learning, y también, será la herramienta principal de visualización en el curso Visión Artificial.\n",
    "\n",
    "Puedes explorar un poco el entorno de Jupyter, antes de seguir el tutorial.\n",
    "\n",
    "Recuerda que puedes hacer funcionar lo que haya en un bloque de código, presionando Shift+Enter\n",
    "\n"
   ]
  },
  {
   "cell_type": "markdown",
   "metadata": {},
   "source": [
    "# ¿Qué es Python?\n",
    "\n",
    "Python, es un lenguaje de programación interpretado cuya sintaxis permite tener un código legible. Es un lenguaje multi-paradigma dado que soporta programación orientada a objetos, imperativa y funcional. \n",
    "\n",
    "Sus ventajas radican en que es un lenguaje multiplataforma y muy fácil de aprender."
   ]
  },
  {
   "cell_type": "markdown",
   "metadata": {},
   "source": [
    "# Lo básico de Python."
   ]
  },
  {
   "cell_type": "markdown",
   "metadata": {},
   "source": [
    "Un programa de python, es llamado script. Un script es una secuencia de definiciones y comandos, son evaluados y ejecutados por el intérprete, este último usualmente lo podremos observar como la ventana donde estamos escribiendo nuestro código.\n",
    "\n",
    "Un comando, es una instrucción que se da al intérprete para realizar una acción.\n",
    "\n",
    "Como se ve a continuación:"
   ]
  },
  {
   "cell_type": "code",
   "execution_count": 1,
   "metadata": {},
   "outputs": [
    {
     "name": "stdout",
     "output_type": "stream",
     "text": [
      "Que divertida es la clase de Visión Artificial\n"
     ]
    }
   ],
   "source": [
    "print(\"Que divertida es la clase de Visión Artificial\")"
   ]
  },
  {
   "cell_type": "markdown",
   "metadata": {},
   "source": [
    "Como podemos ver, se le dio el comando \"print(...)\" al intérprete, quién lo evaluó y lo ejecutó."
   ]
  },
  {
   "cell_type": "markdown",
   "metadata": {},
   "source": [
    "Como en cualquier lenguaje de programación, es muy importante conocer los tipos de número que podemos utilizar, adicionalmente, qué otro tipo de objetos y expresiones tenemos. Un objeto es el núcleo de todo lo que manipula un programa en python, cada objeto tiene un tipo asociado, siendo escalar o no escalar. \n",
    "\n",
    "Por otro lado, podemos realizar asignación de variables.\n",
    "\n",
    "De modo que: x = 5, por ejemplo, si llamamos a x desde la memoria, tendrá el valor 5.\n",
    "\n",
    "Veamos:"
   ]
  },
  {
   "cell_type": "code",
   "execution_count": 11,
   "metadata": {},
   "outputs": [
    {
     "name": "stdout",
     "output_type": "stream",
     "text": [
      "Python tiene 4 tipos de objetos escalares\n",
      "El número tipo entero es:  -5\n",
      "El número tipo flotante es:  -5.0\n",
      "El tipo booleano es True o False únicamente, ejemplo:  False\n",
      "El tipo None es:  None\n"
     ]
    }
   ],
   "source": [
    "print(\"Python tiene 4 tipos de objetos escalares\")\n",
    "\n",
    "entero = int(-5)\n",
    "\n",
    "print(\"El número tipo entero es: \", entero)\n",
    "\n",
    "flotante =  float(-5)\n",
    "\n",
    "print(\"El número tipo flotante es: \", flotante)\n",
    "\n",
    "booleano = bool(0)\n",
    "\n",
    "print(\"El tipo booleano es True o False únicamente, ejemplo: \", booleano) #https://www.programiz.com/python-programming/methods/built-in/bool\n",
    "\n",
    "nada = None\n",
    "\n",
    "print(\"El tipo None es: \", nada)"
   ]
  },
  {
   "cell_type": "markdown",
   "metadata": {},
   "source": [
    "Podemos realizar operaciones aritméticas y preguntar por la veracidad de una sentencia (utilizando \"==\" o \"!=\" para igual o desigual, respectivamente), también, si desconocemos el tipo de una variable, podemos preguntarsela a Python, mediante type().\n",
    "\n",
    "A continuación puedes observar, distintas maneras de utilizar la función print() y cómo realizar comentarios en python (utilizando #):"
   ]
  },
  {
   "cell_type": "code",
   "execution_count": 17,
   "metadata": {},
   "outputs": [
    {
     "name": "stdout",
     "output_type": "stream",
     "text": [
      "z = 5\n",
      "z es tipo ->  <class 'int'>\n",
      "\n",
      "\n",
      "q = 5.0\n",
      "q es tipo ->  <class 'float'>\n",
      "\n",
      "\n",
      "¿Es 3 menor que 5? \n",
      " La respuesta es: True\n"
     ]
    }
   ],
   "source": [
    "z = 3 + 2\n",
    "print(\"z =\", z)\n",
    "print(\"z es tipo -> \", type(z))\n",
    "print(\"\\n\") #Comenzar una nueva linea de texto\n",
    "\n",
    "q = 3. + 2.\n",
    "print(\"q =\", q)\n",
    "print(\"q es tipo -> \", type(q))\n",
    "print(\"\\n\")\n",
    "\n",
    "print(\"¿Es 3 menor que 5? \\n La respuesta es:\", 3<5)"
   ]
  },
  {
   "cell_type": "markdown",
   "metadata": {},
   "source": [
    "Debes tener cuidado al operar datos de tipo flotante y tipo entero, puesto que los espacios en memoria designados al asignarle el tipo al objeto, son diferentes. Observemos, al realizar una división, qué diferencia presentan entre si."
   ]
  },
  {
   "cell_type": "code",
   "execution_count": 22,
   "metadata": {},
   "outputs": [
    {
     "name": "stdout",
     "output_type": "stream",
     "text": [
      "Diferencia entre Flotantes y Enteros\n",
      "¿Los resultados son iguales? \n",
      " Respuesta:  False\n"
     ]
    }
   ],
   "source": [
    "print(\"Diferencia entre Flotantes y Enteros\")\n",
    "\n",
    "divint = int(1/2) #para asegurar que un dato sea entero, debe ponerse int(dato)\n",
    "divfloat = 1./2.\n",
    "\n",
    "print(\"¿Los resultados son iguales? \\n Respuesta: \", divint == divfloat)"
   ]
  },
  {
   "cell_type": "markdown",
   "metadata": {},
   "source": [
    "No son iguales!\n",
    "\n",
    "Veamos la razón:"
   ]
  },
  {
   "cell_type": "code",
   "execution_count": 27,
   "metadata": {},
   "outputs": [
    {
     "name": "stdout",
     "output_type": "stream",
     "text": [
      "La división entera es:  0\n",
      "La división flotante es:  0.5\n",
      "\n",
      "\n",
      "Recuerda tener cuidado con los tipos numéricos, verifícalos \n",
      " antes de operarlos\n"
     ]
    }
   ],
   "source": [
    "print(\"La división entera es: \" ,divint)\n",
    "print(\"La división flotante es: \", divfloat)\n",
    "print(\"\\n\")\n",
    "print(\"Recuerda tener cuidado con los tipos numéricos, verifícalos \\n antes de operarlos\")"
   ]
  },
  {
   "cell_type": "markdown",
   "metadata": {},
   "source": [
    "Pero python no solamente utiliza números, tal como has visto anteriormente, las expresiones entre comillas son texto, y se denominan Strings, a continuación algunas de sus propiedades, recuerda que los espacios también cuentan como un caracter."
   ]
  },
  {
   "cell_type": "code",
   "execution_count": 42,
   "metadata": {},
   "outputs": [
    {
     "name": "stdout",
     "output_type": "stream",
     "text": [
      "El tipo de x es ->  <class 'str'> \n",
      "\n",
      "La frase concatenada es:  \n",
      " Que divertido es el curso de Visión Artificial \n",
      "\n",
      "La primera letra de la frase concatenada es: \n",
      "  Q \n",
      "\n",
      "La frase concatenada tiene  46  caracteres \n",
      "\n",
      "Los primeros 9 caracteres de la frase son:  Que diver\n"
     ]
    }
   ],
   "source": [
    "x = \"Que divertido\" #Asignar a x un string\n",
    "print(\"El tipo de x es -> \", type(x) , \"\\n\")\n",
    "\n",
    "y = \" es el curso de\"\n",
    "z = \" Visión Artificial\"\n",
    "concatenada = x+y+z #vamos a \"pegar\" las frases\n",
    "\n",
    "print(\"La frase concatenada es:  \\n\", concatenada, \"\\n\")\n",
    "\n",
    "print(\"La primera letra de la frase concatenada es: \\n \", concatenada[0],\"\\n\")\n",
    "\n",
    "print(\"La frase concatenada tiene \", len(concatenada), \" caracteres\", \"\\n\")\n",
    "\n",
    "print(\"Los primeros 9 caracteres de la frase son: \", concatenada[:9])"
   ]
  },
  {
   "cell_type": "markdown",
   "metadata": {},
   "source": [
    "Dada la extensión de las operaciones posibles con caracteres en python, puedes observar este link que se muestra a continuación, allí se muestran muchas más.\n",
    "\n",
    "http://www.openbookproject.net/thinkcs/archive/python/spanish2e/cap07.html"
   ]
  },
  {
   "cell_type": "markdown",
   "metadata": {},
   "source": [
    "## Condicionales:\n",
    "\n",
    "En python, es posible realizar condicionales de tipo if-else.\n",
    "\n",
    "Un condicional, es una instrucción que se ejecutará si y solo si se cumple la condición que se especifica."
   ]
  },
  {
   "cell_type": "code",
   "execution_count": 44,
   "metadata": {},
   "outputs": [
    {
     "name": "stdout",
     "output_type": "stream",
     "text": [
      "Aprendamos a utilizar condicionales\n",
      "x =  5\n",
      "y =  6\n",
      "x < y\n"
     ]
    }
   ],
   "source": [
    "print(\"Aprendamos a utilizar condicionales\")\n",
    "\n",
    "x = 5\n",
    "y = 6\n",
    "\n",
    "print(\"x = \", x)\n",
    "print(\"y = \", y)\n",
    "\n",
    "if x >= y:\n",
    "    print(\"x >= y\")\n",
    "else:\n",
    "    print(\"x < y\")"
   ]
  },
  {
   "cell_type": "markdown",
   "metadata": {},
   "source": [
    "Como vemos, la condición se cumplió. Puedes practicar anidando múltiples condicionales, siempre y cuando se cumplan las condiciones, se ejecutará la instrucción indicada."
   ]
  },
  {
   "cell_type": "code",
   "execution_count": 47,
   "metadata": {},
   "outputs": [
    {
     "name": "stdout",
     "output_type": "stream",
     "text": [
      "Condicionales anidados: \n",
      "\n",
      "Que divertida es la clase de Visión Artificial\n"
     ]
    }
   ],
   "source": [
    "print(\"Condicionales anidados: \\n\")\n",
    "\n",
    "m = 10\n",
    "z = 5 #podemos usar a x e y, dado que estan guardadas en el notebook\n",
    "\n",
    "if x <= y and x == z:\n",
    "    if x <= m:\n",
    "        print(\"Que divertida es la clase de Visión Artificial\")\n",
    "    else:\n",
    "        print(\"No se cumple la condición :(\")\n",
    "else:\n",
    "    print(\"Que fácil es programar en python\")"
   ]
  },
  {
   "cell_type": "markdown",
   "metadata": {},
   "source": [
    "Recuerda probar distintas combinaciones de x, y, z, m para obtener distintas impresiones de la consola."
   ]
  },
  {
   "cell_type": "markdown",
   "metadata": {},
   "source": [
    "## Ciclos for y while\n",
    "\n",
    "También puedes hacer uso de herramientas como los ciclos for y el while.\n",
    "\n",
    "Los ciclos iterativos facilitan muchas tareas que de otro modo tomarían una eternidad.\n",
    "\n",
    "Por ejemplo, vamos a sumar los números del 1 al 100."
   ]
  },
  {
   "cell_type": "code",
   "execution_count": 50,
   "metadata": {},
   "outputs": [
    {
     "name": "stdout",
     "output_type": "stream",
     "text": [
      "5050\n"
     ]
    }
   ],
   "source": [
    "suma = 0 #inicializa variable\n",
    "for i in range(101): #ciclo for, vamos desde i = 0 ya que no definimos hasta 100, colocamos 101 ya que en python                     \n",
    "    suma += i        #el contador empieza desde 0\n",
    "print(suma)"
   ]
  },
  {
   "cell_type": "markdown",
   "metadata": {},
   "source": [
    "Ahora, probemos con un ciclo while."
   ]
  },
  {
   "cell_type": "code",
   "execution_count": 53,
   "metadata": {},
   "outputs": [
    {
     "name": "stdout",
     "output_type": "stream",
     "text": [
      "5050\n"
     ]
    }
   ],
   "source": [
    "j = 0; sumados = 0 #definimos j, y la suma\n",
    "while j <= 100: #condición para iterar\n",
    "    sumados += j\n",
    "    j += 1\n",
    "print(sumados)"
   ]
  },
  {
   "cell_type": "markdown",
   "metadata": {},
   "source": [
    "## Listas\n",
    "\n",
    "Esta estructura de datos, nos acompañará en el curso junto a los vectores y las matrices. Rápidamente, una lista nos permite almacenar cualquier tipo de dato, sin problema alguno, combinado en espacios de memoria diferentes.\n",
    "\n",
    "Dado que una lista es un arreglo de elementos, puede accederse a cualquier dato de ésta."
   ]
  },
  {
   "cell_type": "code",
   "execution_count": 61,
   "metadata": {},
   "outputs": [
    {
     "name": "stdout",
     "output_type": "stream",
     "text": [
      "El tercer elemento de la lista2 es:  Visión Artificial\n",
      "El tipo de elemento es:  <class 'str'>\n"
     ]
    }
   ],
   "source": [
    "lista = [] # lista vacia\n",
    "\n",
    "lista2 = [1, 2, \"Visión Artificial\", None, int(4)]\n",
    "\n",
    "print(\"El tercer elemento de la lista2 es: \", lista2[2])\n",
    "print(\"El tipo de elemento es: \", type(lista2[2]))"
   ]
  },
  {
   "cell_type": "markdown",
   "metadata": {},
   "source": [
    "Podemos guardar más elementos en las listas o modificar elementos existentes:"
   ]
  },
  {
   "cell_type": "code",
   "execution_count": 62,
   "metadata": {},
   "outputs": [
    {
     "name": "stdout",
     "output_type": "stream",
     "text": [
      "[1, 2, 0, None, 4]\n"
     ]
    }
   ],
   "source": [
    "lista2[2] = 0\n",
    "\n",
    "print(lista2)"
   ]
  },
  {
   "cell_type": "markdown",
   "metadata": {},
   "source": [
    "Hemos eliminado el tercer elemento de la lista, ahora, añadamos un elemento más a la lista y veamos la nueva longitud."
   ]
  },
  {
   "cell_type": "code",
   "execution_count": 63,
   "metadata": {},
   "outputs": [
    {
     "name": "stdout",
     "output_type": "stream",
     "text": [
      "[1, 2, 0, None, 4, 'Visión Artificial']\n",
      "6\n"
     ]
    }
   ],
   "source": [
    "lista2.append(\"Visión Artificial\")\n",
    "\n",
    "print(lista2)\n",
    "print(len(lista2))"
   ]
  },
  {
   "cell_type": "markdown",
   "metadata": {},
   "source": [
    "Finalmente, es posible combinar ciclos e iteraciones para llenar listas, llenemos la lista vacía \"lista\" con los números del 1 al 100."
   ]
  },
  {
   "cell_type": "code",
   "execution_count": 65,
   "metadata": {},
   "outputs": [
    {
     "name": "stdout",
     "output_type": "stream",
     "text": [
      "[0, 1, 2, 3, 4, 5, 6, 7, 8, 9, 10, 11, 12, 13, 14, 15, 16, 17, 18, 19, 20, 21, 22, 23, 24, 25, 26, 27, 28, 29, 30, 31, 32, 33, 34, 35, 36, 37, 38, 39, 40, 41, 42, 43, 44, 45, 46, 47, 48, 49, 50, 51, 52, 53, 54, 55, 56, 57, 58, 59, 60, 61, 62, 63, 64, 65, 66, 67, 68, 69, 70, 71, 72, 73, 74, 75, 76, 77, 78, 79, 80, 81, 82, 83, 84, 85, 86, 87, 88, 89, 90, 91, 92, 93, 94, 95, 96, 97, 98, 99, 100]\n"
     ]
    }
   ],
   "source": [
    "lista = []\n",
    "for i in range(101):\n",
    "    lista.append(i)\n",
    "print(lista)"
   ]
  },
  {
   "cell_type": "markdown",
   "metadata": {},
   "source": [
    "Si deseas aprender más sobre listas, dado que su manejo es muy importante en el curso, recuerda revisar:\n",
    "\n",
    "https://devcode.la/tutoriales/listas-python/\n",
    "\n",
    "Adicionalmente, si deseas ampliar tu conocimiento de python básico e intermedio, es sugerible revisar un libro de programación.\n",
    "\n",
    "https://doc.lagout.org/programmation/python/Introduction%20to%20Computation%20and%20Programming%20using%20Python%20%28rev.%20ed.%29%20%5BGuttag%202013-08-09%5D.pdf"
   ]
  },
  {
   "cell_type": "markdown",
   "metadata": {},
   "source": [
    "### Prepárate! Ahora comienza el tutorial de estadística básica y numpy."
   ]
  },
  {
   "cell_type": "markdown",
   "metadata": {},
   "source": [
    "# Estadística básica y numpy."
   ]
  },
  {
   "cell_type": "markdown",
   "metadata": {},
   "source": [
    "El objetivo de este módulo es repasar los conceptos de estadística básica y álgebra lineal, haciendo uso de las herramientas de las que se dispone en el curso, para que el estudiante se familiarice con las librerías y su aplicación.\n",
    "\n",
    "### A continuación se coloca la documentación respectiva de las librerías que se van a utilizar\n",
    "\n",
    "1. Numpy ->\n",
    "https://docs.scipy.org/doc/\n",
    "\n",
    "2. OpenCv ->\n",
    "https://docs.opencv.org/master/d9/df8/tutorial_root.html\n",
    "\n",
    "3. Matplotlib ->\n",
    "https://matplotlib.org/"
   ]
  },
  {
   "cell_type": "code",
   "execution_count": 153,
   "metadata": {},
   "outputs": [],
   "source": [
    "#Importemos las liberías de las que se hará uso en este módulo\n",
    "\n",
    "# Módulo para generar números aleatorios\n",
    "import random \n",
    "\n",
    "# Numpy es el principal paquete científico de Python\n",
    "# Este paquete es ampliamente utilizado en el curso de Visión Artificial\n",
    "import numpy as np\n",
    "\n",
    "#linalg permite hacer tratamiento algebráico en matrices\n",
    "from numpy.linalg import *\n",
    "\n",
    "#Importar matplotlib, una poderosa herramienta para imprimir figuras\n",
    "#y dibujar gráficos\n",
    "import matplotlib.pyplot as plt\n",
    "\n",
    "# Se utiliza esta línea cuando se trabaja matplotlib en Jupyter, para\n",
    "#imprimir las figuras\n",
    "%matplotlib inline\n"
   ]
  },
  {
   "cell_type": "markdown",
   "metadata": {},
   "source": [
    "# Parte 1: Álgebra Lineal"
   ]
  },
  {
   "cell_type": "markdown",
   "metadata": {},
   "source": [
    "En esta sección, se repasaremos Álgebra Lineal, uso de vectores y matrices en Python haciendo uso de la librería numpy."
   ]
  },
  {
   "cell_type": "markdown",
   "metadata": {},
   "source": [
    "Se presenta $M$ como una matriz de tamaño $(3, 3)$, $a$ como el vector fila $(1, 3)$ y $b$ un vector columna $(5, 1)$.\n",
    "\n",
    "$$M = \\begin{bmatrix}\n",
    "1 & 2 & 3 \\\\\n",
    "4 & 5 & 6 \\\\\n",
    "7 & 8 & 9 \\end{bmatrix}\n",
    "$$\n",
    "\n",
    "$$a = \\begin{bmatrix}\n",
    "1 & 0 & 0\n",
    "\\end{bmatrix}\n",
    "$$\n",
    "\n",
    "$$b = \\begin{bmatrix}\n",
    "1 \\\\ 0 \\\\ 1 \\\\ 0 \\\\ 1\n",
    "\\end{bmatrix}  \n",
    "$$ \n",
    "\n",
    "Haciendo uso de la librería numpy, vamos a definir la matriz $M$ y los vectores $a$ y $b$, también podemos imprimirlos y mostrar sus dimensiones."
   ]
  },
  {
   "cell_type": "code",
   "execution_count": 21,
   "metadata": {},
   "outputs": [
    {
     "name": "stdout",
     "output_type": "stream",
     "text": [
      "M = \n",
      " [[1 2 3]\n",
      " [4 5 6]\n",
      " [7 8 9]]\n",
      "a =  [1 0 0]\n",
      "b = \n",
      " [[1]\n",
      " [0]\n",
      " [1]\n",
      " [0]\n",
      " [1]]\n",
      "Las dimensiones de M son:  (3, 3)\n",
      "Las dimensiones de a son:  (3,)\n",
      "Las dimensiones de b son:  (5, 1)\n"
     ]
    }
   ],
   "source": [
    "#Definir M, a,b\n",
    "#Utilizar las funciones de numpy arrange & array\n",
    "M = np.arange(1, 10).reshape(3, 3)\n",
    "a = np.array([1, 0, 0])\n",
    "b = np.array([[1], [0], [1], [0], [1]])\n",
    "\n",
    "#Imprimir M, a,b\n",
    "\n",
    "print(\"M = \\n\", M)\n",
    "print(\"a = \", a)\n",
    "print(\"b = \\n\", b)\n",
    "\n",
    "#Imprimir las dimensiones\n",
    "\n",
    "print(\"Las dimensiones de M son: \", M.shape)\n",
    "print(\"Las dimensiones de a son: \", a.shape)\n",
    "print(\"Las dimensiones de b son: \", b.shape)"
   ]
  },
  {
   "cell_type": "markdown",
   "metadata": {},
   "source": [
    "# Operaciones básicas entre matrices y vectores"
   ]
  },
  {
   "cell_type": "markdown",
   "metadata": {},
   "source": [
    "A continuación, veamos las operaciones <b>básicas entre vectores y matrices</b> que ofrece numpy\n",
    "\n",
    "Es sugerible consultar el siguiente link:\n",
    "<br>http://cb.mty.itesm.mx/ma1010/materiales/ma1010-06.pdf</br>\n",
    "\n",
    "En donde se encuentra un completo compilatorio de propiedades de las matrices, matrices especiales, operaciones básicas, producto cruz, producto punto, entre otros.\n",
    "\n",
    "Ya tenemos una matriz $M$, definamos ahora $N$, hay que recordar que para operar matrices las dimensiones deben coincidir, por lo tanto $N$ debe ser $(3, 3)$ \n",
    "\n",
    "$$M = \\begin{bmatrix}\n",
    "1 & 2 & 3 \\\\\n",
    "4 & 5 & 6 \\\\\n",
    "7 & 8 & 9 \\end{bmatrix}\n",
    "$$\n",
    "\n",
    "$$N = \\begin{bmatrix}\n",
    "1 & 0 & 0 \\\\\n",
    "0 & 1 & 0 \\\\\n",
    "0 & 0 & 1 \\end{bmatrix}\n",
    "$$\n",
    "\n",
    "La matriz $N$ también es conocida como la matriz identidad."
   ]
  },
  {
   "cell_type": "code",
   "execution_count": 23,
   "metadata": {},
   "outputs": [
    {
     "name": "stdout",
     "output_type": "stream",
     "text": [
      "Q= \n",
      " [[ 2  2  3]\n",
      " [ 4  6  6]\n",
      " [ 7  8 10]]\n"
     ]
    }
   ],
   "source": [
    "#Definir M y N\n",
    "#La función arange permite crear una matriz nxn que contenga números que\n",
    "#van de uno en uno desde el mínimo hasta 1-máximo definido\n",
    "M = np.arange(1, 10).reshape(3, 3)\n",
    "\n",
    "#La función matrix, permite personalizar la matriz del tamaño deseado\n",
    "#y con los valores deseados, una aplicación más general\n",
    "N = np.matrix([[1, 0, 0], [0, 1, 0], [0, 0, 1]]).reshape(3, 3)\n",
    "\n",
    "#Suma\n",
    "Q = M + N\n",
    "print(\"Q= \\n\", Q)"
   ]
  },
  {
   "cell_type": "markdown",
   "metadata": {},
   "source": [
    "Análogamente, podemos definir la operación <b> resta</br>"
   ]
  },
  {
   "cell_type": "code",
   "execution_count": 24,
   "metadata": {},
   "outputs": [
    {
     "name": "stdout",
     "output_type": "stream",
     "text": [
      "Q= \n",
      " [[0 2 3]\n",
      " [4 4 6]\n",
      " [7 8 8]]\n"
     ]
    }
   ],
   "source": [
    "#Resta\n",
    "Q= M - N\n",
    "print(\"Q= \\n\", Q)"
   ]
  },
  {
   "cell_type": "markdown",
   "metadata": {},
   "source": [
    "Veamos, cómo funcionan la <b> multiplicación y la división</b> \n",
    "\n",
    "Sea la matriz $O$\n",
    "\n",
    "\n",
    "$$O = \\begin{bmatrix}\n",
    "0 & 0 & 1 \\\\\n",
    "0 & 1 & 0 \\\\\n",
    "1 & 0 & 0 \\end{bmatrix}\n",
    "$$"
   ]
  },
  {
   "cell_type": "code",
   "execution_count": 34,
   "metadata": {},
   "outputs": [
    {
     "name": "stdout",
     "output_type": "stream",
     "text": [
      "Q= \n",
      " [[1 2 3]\n",
      " [4 5 6]\n",
      " [7 8 9]]\n"
     ]
    }
   ],
   "source": [
    "#Definir O con np.matrix, posteriormente operar e imprimir la multiplicación\n",
    "O = np.matrix([[0, 0, 1], [0, 1, 0], [1, 0, 0]]).reshape(3, 3)\n",
    "\n",
    "#Utilizar la función np.dot para realizar una multiplicación de matrices\n",
    "Q= np.dot(M,N)\n",
    "print(\"Q= \\n\", Q)"
   ]
  },
  {
   "cell_type": "markdown",
   "metadata": {},
   "source": [
    "Esto, tiene sentido, al multiplicar $M$ * $N$ obtenemos la misma matriz $M$, recordemos que cualquier matriz multiplicada por la <b>matriz identidad</b> es ella misma.\n",
    "\n",
    "Ahora veamos un caso de <b>división</b> entre matrices, intentaremos evitar este procedimiento en lo posible."
   ]
  },
  {
   "cell_type": "code",
   "execution_count": 37,
   "metadata": {},
   "outputs": [
    {
     "name": "stdout",
     "output_type": "stream",
     "text": [
      "Q= \n",
      " [[  0.  nan  inf]\n",
      " [ nan   1.  nan]\n",
      " [ inf  nan   0.]]\n"
     ]
    }
   ],
   "source": [
    "#Importar una librería de ayuda para ignorar advertencias muy largas\n",
    "#que puedan ser molestas al usuario, aunque es sugerible no quitarlas\n",
    "import warnings\n",
    "warnings.filterwarnings('ignore')\n",
    "#Utilizar np.divide para dividir matrices \n",
    "Q= np.divide(O,N)\n",
    "print(\"Q= \\n\", Q)"
   ]
  },
  {
   "cell_type": "markdown",
   "metadata": {},
   "source": [
    "Como podemos observar, se realizó una división componente a componente entre la matriz $O$ y la matriz $N$.\n",
    "\n",
    "Obtuvimos resultados \"nan\" e \"inf\", que significan \"indeterminación\" e \"infinito\" respectivamente, recordemos que un término \"nan\" aparecerá cuando tengamos expresiones$\\frac{0}{0}$ o $\\frac{inf}{inf}$, por otro lado \"inf\" aparecerá cuando se nos presenten expresiones del tipo $\\frac{1}{0}$.\n",
    "\n",
    "Sin embargo, esta operación es de utilidad cuando se operan imágenes o se estandarizan los datos, donde se sabe que no se presentarán estas expresiones.\n",
    "\n",
    "Por ejemplo, sea la matriz $P$\n",
    "\n",
    "$$P = \\begin{bmatrix}\n",
    "2 & 2 & 2 \\\\\n",
    "2 & 2 & 2 \\\\\n",
    "2 & 2 & 2 \\end{bmatrix}\n",
    "$$\n",
    "\n",
    "Mostremos que ocurre cuando dividimos dos matrices con componentes definidas en los números reales. En este caso, $N$ entre $P$."
   ]
  },
  {
   "cell_type": "code",
   "execution_count": 40,
   "metadata": {},
   "outputs": [
    {
     "name": "stdout",
     "output_type": "stream",
     "text": [
      "Q= \n",
      " [[ 0.5  0.   0. ]\n",
      " [ 0.   0.5  0. ]\n",
      " [ 0.   0.   0.5]]\n"
     ]
    }
   ],
   "source": [
    "#Definir P con np.matrix\n",
    "P = np.matrix([[2, 2, 2], [2, 2, 2], [2, 2, 2]]).reshape(3, 3)\n",
    "#Utilizar np.divide para dividir matrices \n",
    "Q= np.divide(N,P)\n",
    "print(\"Q= \\n\", Q)"
   ]
  },
  {
   "cell_type": "markdown",
   "metadata": {},
   "source": [
    "Ahora, conocemos las operaciones básicas entre matrices y vectores, pero, ¿Podemos implementar el producto punto y el producto cruz?\n",
    "\n",
    "Inicialmente, definamos los vectores $c$ y $d$\n",
    "\n",
    "$$c = \\begin{bmatrix}\n",
    "1 & 0 & 1\n",
    "\\end{bmatrix}\n",
    "$$\n",
    "\n",
    "$$d = \\begin{bmatrix}\n",
    "3 & 0 & 7\n",
    "\\end{bmatrix}\n",
    "$$"
   ]
  },
  {
   "cell_type": "code",
   "execution_count": 46,
   "metadata": {},
   "outputs": [
    {
     "name": "stdout",
     "output_type": "stream",
     "text": [
      "10\n"
     ]
    }
   ],
   "source": [
    "#Producto punto \n",
    "#Definir c,d\n",
    "c = np.array([1, 0, 1])\n",
    "d = np.array([3, 0, 7])\n",
    "\n",
    "#Utilizar np.dot de numpy\n",
    "cDotd = np.dot(c,d)\n",
    "print(cDotd)"
   ]
  },
  {
   "cell_type": "markdown",
   "metadata": {},
   "source": [
    "Podemos notar entonces, que la función <b>np.dot</b> sobre vectores arroja el producto punto de éstos, y para matrices regresa una multiplicación entre ellas.\n",
    "\n",
    "Ahora, el producto cruz(o producto vectorial), para ello utilicemos el vector $x$ y definamos el vector $y$, comprobemos la propiedad de ortogonalidad de la terna canónica.\n",
    "\n",
    "$$x = \\begin{bmatrix}\n",
    "1 & 0 & 0\n",
    "\\end{bmatrix}\n",
    "$$\n",
    "\n",
    "$$y = \\begin{bmatrix}\n",
    "0 & 1 & 0\n",
    "\\end{bmatrix}\n",
    "$$"
   ]
  },
  {
   "cell_type": "code",
   "execution_count": 48,
   "metadata": {},
   "outputs": [
    {
     "name": "stdout",
     "output_type": "stream",
     "text": [
      "z= [0 0 1]\n"
     ]
    }
   ],
   "source": [
    "#Producto cruz\n",
    "#Definir a, e\n",
    "x = np.array([1, 0, 0])\n",
    "y = np.array([0, 1, 0])\n",
    "\n",
    "#Utilizar np.cross de numpy\n",
    "z = np.cross(a,e)\n",
    "print(\"z=\" ,z)"
   ]
  },
  {
   "cell_type": "markdown",
   "metadata": {},
   "source": [
    "Hemos verificado entonces, que estos tres vectores son ortogonales y por tanto forman una base, llamada base canónica.\n",
    "\n",
    "Por otro lado, numpy ofrece herramientas de cálculo para encontrar el determinante de una matriz, la norma(magnitud), los valores propios (reales y complejos) e incluso resolución de sistemas lineales matriciales.\n",
    "\n",
    "La norma matricial, permite conocer características de matrices en análisis numérico que las hace únicas, en el caso particular, estudiemos cómo podemos acceder a éstas mediante numpy.\n",
    "\n",
    "\n",
    "<img src=\"res/normal.png\" alt=\"\" style=\"height:200px\"></img>\n",
    "\n",
    "Usemos la matriz $M$\n",
    "\n",
    "$$M = \\begin{bmatrix}\n",
    "1 & 2 & 3 \\\\\n",
    "4 & 5 & 6 \\\\\n",
    "7 & 8 & 9 \\end{bmatrix}\n",
    "$$"
   ]
  },
  {
   "cell_type": "code",
   "execution_count": 53,
   "metadata": {},
   "outputs": [
    {
     "name": "stdout",
     "output_type": "stream",
     "text": [
      "La norma 1 de M es:  18.0\n",
      "La norma 2 o Euclídea de M es:  16.8481033526\n",
      "La norma infinita de M es:  24.0\n"
     ]
    }
   ],
   "source": [
    "#Utilizar la matriz M\n",
    "M = np.arange(1, 10).reshape(3, 3)\n",
    "\n",
    "#Aplicar la función np.linalg.norm(M,\"TipoDeNorma\")\n",
    "#La norma 1 se define en el ejemplo, norma 2 corresponde a la Euclidiana\n",
    "#y la norma infinito se puede observar en la figura.\n",
    "\n",
    "norma1 = np.linalg.norm(M,1)\n",
    "norma2 = np.linalg.norm(M,2)\n",
    "normainf = np.linalg.norm(M,np.inf)\n",
    "\n",
    "print(\"La norma 1 de M es: \", norma1)\n",
    "print(\"La norma 2 o Euclídea de M es: \", norma2)\n",
    "print(\"La norma infinita de M es: \", normainf)\n"
   ]
  },
  {
   "cell_type": "markdown",
   "metadata": {},
   "source": [
    "Por otro lado se encuentra, la magnitud de un vector, ésta es más conocida y permite conocer cuál es la longitud de éste.\n",
    "\n",
    "<img src=\"res/vector.png\" alt=\"\" style=\"height:200px\"></img>\n",
    "\n",
    "Recordemos el vector $c$\n",
    "\n",
    "$$c = \\begin{bmatrix}\n",
    "1 & 0 & 1\n",
    "\\end{bmatrix}\n",
    "$$"
   ]
  },
  {
   "cell_type": "code",
   "execution_count": 55,
   "metadata": {},
   "outputs": [
    {
     "name": "stdout",
     "output_type": "stream",
     "text": [
      "La magnitud de c es:  1.41421356237\n"
     ]
    }
   ],
   "source": [
    "#Utilizar el vector c\n",
    "c = np.array([1, 0, 1])\n",
    "\n",
    "#Hacer uso de np.linalg.norm(c) para calcular la magnitud de c\n",
    "magnitud = np.linalg.norm(c)\n",
    "\n",
    "print(\"La magnitud de c es: \", magnitud)"
   ]
  },
  {
   "cell_type": "markdown",
   "metadata": {},
   "source": [
    "También el determinante, otro cálculo que numpy nos permite realizar con facilidad  y que es fundamental en la operación de invertir una matriz, o de encontrar sus autovalores.\n",
    "\n",
    "<img src=\"res/det.png\" alt=\"\" style=\"height:200px\"></img>\n",
    "\n",
    "Calculemos el determinante de la matriz $M$."
   ]
  },
  {
   "cell_type": "code",
   "execution_count": 56,
   "metadata": {},
   "outputs": [
    {
     "name": "stdout",
     "output_type": "stream",
     "text": [
      "El determinante de M es:  6.66133814775e-16\n"
     ]
    }
   ],
   "source": [
    "#Utilizar la matriz M\n",
    "M = np.arange(1, 10).reshape(3, 3)\n",
    "\n",
    "#Llamar la función np.linalg.det(M) para calcular el determinante\n",
    "detM = np.linalg.det(M)\n",
    "\n",
    "print(\"El determinante de M es: \", detM)"
   ]
  },
  {
   "cell_type": "markdown",
   "metadata": {},
   "source": [
    "Finalmente se muestra el cálculo de los autovalores de una matriz, una aplicación fundamental en el álgebra lineal, la física y las matemáticas.\n",
    "\n",
    "<img src=\"res/ei.png\" alt=\"\" style=\"height:130px\"></img>\n",
    "\n",
    "Vamos a calcular entonces, los eigenvalores de la matriz $M$."
   ]
  },
  {
   "cell_type": "code",
   "execution_count": 58,
   "metadata": {},
   "outputs": [
    {
     "name": "stdout",
     "output_type": "stream",
     "text": [
      "Los valores propios de M son:  [  1.61168440e+01  -1.11684397e+00  -1.30367773e-15]\n"
     ]
    }
   ],
   "source": [
    "#Definir la matriz M\n",
    "M = np.arange(1, 10).reshape(3, 3)\n",
    "\n",
    "#Usar la función np.linalg.eigvals(M) para calcular los eigenvalores\n",
    "eigM = np.linalg.eigvals(M)\n",
    "\n",
    "print(\"Los valores propios de M son: \", eigM)"
   ]
  },
  {
   "cell_type": "markdown",
   "metadata": {},
   "source": [
    "A partir de los eigenvalores, es posible calcular los eigenvectores, función que también posee numpy, esto nos entrega una lista de arrays."
   ]
  },
  {
   "cell_type": "code",
   "execution_count": 60,
   "metadata": {},
   "outputs": [
    {
     "name": "stdout",
     "output_type": "stream",
     "text": [
      "Los vectores propios de M son:  (array([  1.61168440e+01,  -1.11684397e+00,  -1.30367773e-15]), array([[-0.23197069, -0.78583024,  0.40824829],\n",
      "       [-0.52532209, -0.08675134, -0.81649658],\n",
      "       [-0.8186735 ,  0.61232756,  0.40824829]]))\n"
     ]
    }
   ],
   "source": [
    "#Usar la función np.linalg.eig(M) para calcular eigenvectores\n",
    "eigvM = np.linalg.eig(M)\n",
    "\n",
    "print(\"Los vectores propios de M son: \", eigvM)"
   ]
  },
  {
   "cell_type": "markdown",
   "metadata": {},
   "source": [
    "También podemos calcular la inversa y la transpuesta de una matriz, utilicemos la matriz $L$.\n",
    "\n",
    "$$L = \\begin{bmatrix}\n",
    "1 & 1 & 1 \\\\\n",
    "1 & 1 & 0 \\\\\n",
    "1 & 0 & 1 \\end{bmatrix}\n",
    "$$"
   ]
  },
  {
   "cell_type": "code",
   "execution_count": 67,
   "metadata": {},
   "outputs": [
    {
     "name": "stdout",
     "output_type": "stream",
     "text": [
      "La matriz inversa de L es: \n",
      " [[-1.  1.  1.]\n",
      " [ 1.  0. -1.]\n",
      " [ 1. -1.  0.]]\n",
      "La matriz transpuesta de L es: \n",
      " [[1 1 1]\n",
      " [1 1 0]\n",
      " [1 0 1]]\n"
     ]
    }
   ],
   "source": [
    "#Definir la matriz L\n",
    "L = np.matrix([[1, 1, 1], [1, 1, 0], [1, 0, 1]]).reshape(3, 3)\n",
    "\n",
    "#Calcular la inversa de L\n",
    "invL = np.linalg.inv(L)\n",
    "\n",
    "#Calcular la transpuesta de L\n",
    "transL = L.transpose()\n",
    "\n",
    "print(\"La matriz inversa de L es: \\n\", invL)\n",
    "print(\"La matriz transpuesta de L es: \\n\", transL)"
   ]
  },
  {
   "cell_type": "markdown",
   "metadata": {},
   "source": [
    "# Parte 2: Estadística Descriptiva"
   ]
  },
  {
   "cell_type": "code",
   "execution_count": 128,
   "metadata": {},
   "outputs": [],
   "source": [
    "#Importamos las librerías que nos son de utilidad\n",
    "import numpy as np \n",
    "from scipy import stats\n",
    "\n",
    "#Hagamos uso del random, una semilla para generar datos aleatorios\n",
    "np.random.seed(12021) "
   ]
  },
  {
   "cell_type": "code",
   "execution_count": 129,
   "metadata": {},
   "outputs": [
    {
     "data": {
      "text/plain": [
       "array([[-0.23145661, -0.61666673,  1.1377964 ,  2.60817336],\n",
       "       [ 2.97290505,  1.1694685 ,  2.22676896,  0.24458844],\n",
       "       [-0.01694515, -0.35885275, -0.64604511, -0.58925231],\n",
       "       [ 1.30787711, -1.16414207,  0.21120253,  0.3258935 ],\n",
       "       [-0.19360811,  1.281366  , -0.15850993, -0.35712838]])"
      ]
     },
     "execution_count": 129,
     "metadata": {},
     "output_type": "execute_result"
    }
   ],
   "source": [
    "#Generar una matriz de datos normalmente distribuidos\n",
    "datos = np.random.randn(5, 4) \n",
    "datos"
   ]
  },
  {
   "cell_type": "markdown",
   "metadata": {},
   "source": [
    "Calculemos, los valores que describen al sistema en términos de la información de la matriz datos.\n",
    "\n",
    "Es posible calcular la mayoría de éstas variables con numpy.\n",
    "\n",
    "Definamos la <b>media aritmética</b>, que representa el valor promedio de las muestras y es independiente a las amplitudes de los intervalos.\n",
    "\n",
    "<img src=\"res/media.png\" alt=\"\" style=\"height:100px\"></img>"
   ]
  },
  {
   "cell_type": "code",
   "execution_count": 136,
   "metadata": {},
   "outputs": [
    {
     "name": "stdout",
     "output_type": "stream",
     "text": [
      "La media aritmética es:  0.457671634054\n",
      "La media aritmética de cada fila es: \n",
      " [ 0.7244616   1.65343274 -0.40277383  0.17020777  0.14302989]\n",
      "La media aritmética de cada columna  es: \n",
      " [ 0.76775446  0.06223459  0.55424257  0.44645492]\n"
     ]
    }
   ],
   "source": [
    "# media arítmetica usando np.mean()\n",
    "print(\"La media aritmética es: \", np.mean(datos))\n",
    "\n",
    "#media aritmética de cada fila\n",
    "print(\"La media aritmética de cada fila es: \\n\", datos.mean(axis=1) ) \n",
    "\n",
    "#media aritmética de cada columna\n",
    "print(\"La media aritmética de cada columna  es: \\n\", datos.mean(axis=0) ) \n"
   ]
  },
  {
   "cell_type": "markdown",
   "metadata": {},
   "source": [
    "La <b>mediana</b> representa el valor de la variable de la posición central en un conjunto de datos ordenados.\n",
    "\n",
    "<img src=\"res/mediana.png\" alt=\"\" style=\"height:100px\"></img>"
   ]
  },
  {
   "cell_type": "code",
   "execution_count": 137,
   "metadata": {},
   "outputs": [
    {
     "name": "stdout",
     "output_type": "stream",
     "text": [
      "La mediana es:  0.0971286909955\n"
     ]
    }
   ],
   "source": [
    "#mediana utilizando np.median()\n",
    "print(\"La mediana es: \", np.median(datos)) "
   ]
  },
  {
   "cell_type": "markdown",
   "metadata": {},
   "source": [
    "La <b>desviación estándar</b> o típica, es la medida que determina la dispersión de un conjunto de datos numéricos\n",
    "\n",
    "<img src=\"res/desvest.png\" alt=\"\" style=\"height:100px\"></img>"
   ]
  },
  {
   "cell_type": "code",
   "execution_count": 143,
   "metadata": {},
   "outputs": [
    {
     "name": "stdout",
     "output_type": "stream",
     "text": [
      "La desviación estándar es:  1.12933970357\n",
      "La desviación estándar de cada columna es: \n",
      " [ 1.24038831  0.98533949  1.02022181  1.13549525]\n"
     ]
    }
   ],
   "source": [
    "#desviación estándar usando np.std()\n",
    "print(\"La desviación estándar es: \", np.std(datos))\n",
    "\n",
    "#desviación estándar de cada columna usando np.std()\n",
    "print(\"La desviación estándar de cada columna es: \\n\", np.std(datos, 0))\n",
    "      "
   ]
  },
  {
   "cell_type": "markdown",
   "metadata": {},
   "source": [
    "La <b>varianza</b> es una medida de dispersión definida como la esperanza del cuadrado de la desviación estándar de la variable que se mide.\n",
    "\n",
    "<img src=\"res/var.png\" alt=\"\" style=\"height:100px\"></img>"
   ]
  },
  {
   "cell_type": "code",
   "execution_count": 144,
   "metadata": {},
   "outputs": [
    {
     "name": "stdout",
     "output_type": "stream",
     "text": [
      "La varianza es:  1.27540816607\n"
     ]
    }
   ],
   "source": [
    "#varianza usando np.var()\n",
    "print(\"La varianza es: \", np.var(datos))"
   ]
  },
  {
   "cell_type": "markdown",
   "metadata": {},
   "source": [
    "La <b>moda</b> es el valor con mayor <b>frecuencia</b> en una distribución de datos, la <b>frecuencia</b>es el número de veces que se repite un valor dentro del conjunto.\n",
    "\n",
    "<img src=\"res/moda.png\" alt=\"\" style=\"height:100px\"></img>"
   ]
  },
  {
   "cell_type": "code",
   "execution_count": 147,
   "metadata": {},
   "outputs": [
    {
     "name": "stdout",
     "output_type": "stream",
     "text": [
      "La moda es: \n",
      " ModeResult(mode=array([[-0.23145661, -1.16414207, -0.64604511, -0.58925231]]), count=array([[1, 1, 1, 1]]))\n"
     ]
    }
   ],
   "source": [
    "# moda de cada columna con stats.mode()\n",
    "print(\"La moda es: \\n\", stats.mode(datos)) \n",
    "\n",
    "# el 2do array devuelve la frecuencia de los datos, por tanto debería ser 1 si solo se \n",
    "#repiten una vez."
   ]
  },
  {
   "cell_type": "markdown",
   "metadata": {},
   "source": [
    "La <b>covarianza</b> es el valor que indica el grado de variación conjunta de dos variables aleatorias respecto a sus medias.\n",
    "\n",
    "<img src=\"res/cv.png\" alt=\"\" style=\"height:100px\"></img>"
   ]
  },
  {
   "cell_type": "code",
   "execution_count": 149,
   "metadata": {
    "scrolled": true
   },
   "outputs": [
    {
     "name": "stdout",
     "output_type": "stream",
     "text": [
      "La covarianza es: \n",
      " [[ 2.14387348 -1.00970874 -0.29318289  0.33740904 -0.75721578]\n",
      " [-1.00970874  1.42959508  0.20369231  0.65035587 -0.15444568]\n",
      " [-0.29318289  0.20369231  0.08158266  0.11377816  0.02891236]\n",
      " [ 0.33740904  0.65035587  0.11377816  1.03356655 -0.66405013]\n",
      " [-0.75721578 -0.15444568  0.02891236 -0.66405013  0.58340627]]\n"
     ]
    }
   ],
   "source": [
    "#calcular la matriz covarianza de los datos  con np.cov()\n",
    "print(\"La covarianza es: \\n\", np.cov(datos) )"
   ]
  },
  {
   "cell_type": "markdown",
   "metadata": {},
   "source": [
    "La <b>Distribución Normal</b> será una de las distribuciones estadísticas más trabajadas en el curso, por lo tanto presentamos una construcción de la misma, para familiarizarnos con su forma y su cálculo en numpy.\n",
    "\n",
    "<img src=\"res/distr.png\" alt=\"\" style=\"height:300px\"></img>\n",
    "\n",
    "Esta figura representa un ejemplo de una distribución normal aplicada a un set de datos.\n",
    "\n",
    "\n",
    "<img src=\"res/norm.png\" alt=\"\" style=\"height:100px\"></img>\n",
    "\n",
    "Y finalmente esta figura muestra la ecuación que modela una distribución normal cualquiera, dada la desviación estándar y la media aritmética."
   ]
  },
  {
   "cell_type": "code",
   "execution_count": 152,
   "metadata": {},
   "outputs": [
    {
     "data": {
      "image/png": "[encoded data removed]",
      "text/plain": [
       "<matplotlib.figure.Figure at 0x7f2bda180898>"
      ]
     },
     "metadata": {
      "needs_background": "light"
     },
     "output_type": "display_data"
    }
   ],
   "source": [
    "#Matplotlib debe funcionar en Jupyter\n",
    "%matplotlib inline \n",
    "import matplotlib.pyplot as plt \n",
    "#Importar seaborn una herramienta de visualización estadística\n",
    "import seaborn as sns \n",
    "\n",
    "# parametros esteticos de seaborn\n",
    "sns.set_palette(\"deep\", desat=.6)\n",
    "sns.set_context(rc={\"figure.figsize\": (8, 4)})\n",
    "\n",
    "#Se definen la media y la desviación estándar\n",
    "mu, sigma = 0, 0.1\n",
    "#Se crea la muestra de datos tipo normal con np.random.normal\n",
    "s = np.random.normal(mu, sigma, 1000)\n",
    "\n",
    "# histograma de distribución normal.\n",
    "cuenta, cajas, ignorar = plt.hist(s, 30, normed=True)\n",
    "normal = plt.plot(cajas, 1/(sigma * np.sqrt(2 * np.pi)) *\n",
    "         np.exp( - (cajas - mu)**2 / (2 * sigma**2) ),\n",
    "         linewidth=2, color='b')"
   ]
  }
 ],
 "metadata": {
  "kernelspec": {
   "display_name": "Python 3",
   "language": "python",
   "name": "python3"
  },
  "language_info": {
   "codemirror_mode": {
    "name": "ipython",
    "version": 3
   },
   "file_extension": ".py",
   "mimetype": "text/x-python",
   "name": "python",
   "nbconvert_exporter": "python",
   "pygments_lexer": "ipython3",
   "version": "3.8.5"
  }
 },
 "nbformat": 4,
 "nbformat_minor": 2
}
